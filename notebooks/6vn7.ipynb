{
 "cells": [
  {
   "cell_type": "code",
   "execution_count": 1,
   "id": "5e2daabc-2ebb-4d84-8bad-982582bd6621",
   "metadata": {
    "tags": []
   },
   "outputs": [],
   "source": [
    "import os, sys\n",
    "import argparse\n",
    "from biobb_io.api.pdb import pdb\n",
    "from biobb_amber.pdb4amber.pdb4amber_run import pdb4amber_run\n",
    "from biobb_amber.leap.leap_gen_top import leap_gen_top\n",
    "from biobb_amber.pmemd.pmemd_mdrun import pmemd_mdrun\n",
    "from biobb_amber.process.process_minout import process_minout\n",
    "from biobb_amber.ambpdb.amber_to_pdb import amber_to_pdb\n",
    "from biobb_amber.leap.leap_solvate import leap_solvate\n",
    "from biobb_amber.leap.leap_add_ions import leap_add_ions\n",
    "from biobb_amber.process.process_mdout import process_mdout\n",
    "from biobb_amber.pmemd.pmemd_mdrun import pmemd_mdrun\n",
    "\n",
    "import json"
   ]
  },
  {
   "cell_type": "code",
   "execution_count": 2,
   "id": "771a13e1-241f-458c-a5c8-a39fe7978489",
   "metadata": {
    "tags": []
   },
   "outputs": [],
   "source": [
    "def create_dictionaries(file_path):\n",
    "    with open(file_path, 'r') as f:\n",
    "        data = json.load(f)\n",
    "    dictionaries = {}\n",
    "    for key in data.keys():\n",
    "        dictionaries[key] = data[key]\n",
    "    return dictionaries"
   ]
  },
  {
   "cell_type": "code",
   "execution_count": null,
   "id": "ff6ae8e2-5116-4e6b-86d2-72ad55bd0ccd",
   "metadata": {},
   "outputs": [],
   "source": [
    "def prepPDB(input_PDB, forcefield, destination=\"./\"):\n",
    "        \n",
    "    ## Clean the PDB file using pdb4amber tool\n",
    "    output_pdb4amber_path = os.path.join(destination,'structure.pdb4amber.pdb')\n",
    "    pdb4amber_run(input_pdb_path=input_PDB, output_pdb_path=output_pdb4amber_path, properties=forcefield)\n",
    "    \n",
    "    ## Create topology files for the protein. \n",
    "    leap_gen_top (input_pdb_path=output_pdb4amber_path,\n",
    "                  \n",
    "                  output_pdb_path=os.path.join(destination,'structure.leap.pdb'), \n",
    "                  output_top_path=os.path.join(destination,'structure.leap.top'), \n",
    "                  output_crd_path=os.path.join(destination,'structure.leap.crd'), \n",
    "                  properties=forcefield)"
   ]
  },
  {
   "cell_type": "code",
   "execution_count": null,
   "id": "73c616e6-8e90-411e-b1ed-e1cb95b58344",
   "metadata": {},
   "outputs": [],
   "source": [
    "force field = [\"protein.ff19SB\", \"lipid21\", \"water.tip3p\"]\n",
    "\n",
    "def prepSystem(input_PDB, forcefield, destination=\"./\"):\n",
    "    \n",
    "    ## Create topology files for the protein. \n",
    "    leap_gen_top (input_pdb_path=input_PDB,\n",
    "                  input_params_path=\"frcmod.ionsjc_tip3p\",\n",
    "                  input_frcmod_path=\"./ligand_params/missing_gaff2.frcmod\",\n",
    "                  input_lib_path=\"./ligand_params/IXO.off\",\n",
    "                  output_pdb_path=os.path.join(destination,'structure.leap.pdb'), \n",
    "                  output_top_path=os.path.join(destination,'structure.leap.top'), \n",
    "                  output_crd_path=os.path.join(destination,'structure.leap.crd'), \n",
    "                  properties=forcefield)"
   ]
  },
  {
   "cell_type": "code",
   "execution_count": null,
   "id": "2f5de497-94c6-4746-baba-b09b58d7739d",
   "metadata": {},
   "outputs": [],
   "source": [
    "def mdrun (stage, input_top, prop, destination=\"../example/\"):\n",
    "\n",
    "    ## PMEMD_mdrun for any steps, including Minimization, Heating, NVT, NPT, and Production\n",
    "    output_traj_path = os.path.join(destination,f\"pmemd.{stage}.nc\")\n",
    "    output_rst_path = os.path.join(destination,f\"pmemd.{stage}.rst\")\n",
    "    output_log_path = os.path.join(destination,f\"pmemd.{stage}.log\")\n",
    "    \n",
    "    print(output_traj_path, output_rst_path, output_log_path)\n",
    "\n",
    "    ## Create and launch bb\n",
    "    pmemd_mdrun(input_top_path=os.path.join(destination,input_top[\"top\"]),\n",
    "                 input_crd_path=os.path.join(destination,input_top[\"crd\"]),\n",
    "                 input_ref_path=os.path.join(destination,input_top[\"crd\"]),\n",
    "                 output_traj_path=output_traj_path,\n",
    "                 output_rst_path=output_rst_path,\n",
    "                 output_log_path=output_log_path,\n",
    "                 properties=prop)"
   ]
  },
  {
   "cell_type": "code",
   "execution_count": null,
   "id": "d0078ab7-9dc5-4336-8b65-f51c6061c369",
   "metadata": {},
   "outputs": [],
   "source": [
    "inputs_dict = create_dictionaries('../example/6vn7/inputs.json')"
   ]
  },
  {
   "cell_type": "code",
   "execution_count": null,
   "id": "833d704b-ac39-4ce2-8ce8-38ef093a4a4c",
   "metadata": {},
   "outputs": [],
   "source": []
  },
  {
   "cell_type": "code",
   "execution_count": null,
   "id": "eb126640-3b70-43f1-a5b2-1e899a617a85",
   "metadata": {},
   "outputs": [],
   "source": [
    "input_ions_top = {\n",
    "    \"top\": \"structure.ions.parmtop\",\n",
    "    \"crd\": \"structure.ions.crd\",\n",
    "    \"pdb\": \"structure.ions.pdb\"\n",
    "}\n",
    "\n",
    "prop_min = {\n",
    "    \"simulation_type\" : \"minimization\",\n",
    "    \"mdin\" : { \n",
    "        'maxcyc' : 300, # Reducing the number of minimization steps for the sake of time\n",
    "        'ntr' : 1,      # Overwritting restrain parameter\n",
    "        'restraintmask' : '\\\"!:WAT,Cl-,Na+\\\"',      # Restraining solute\n",
    "        'restraint_wt' : 50.0                       # With a force constant of 50 Kcal/mol*A2\n",
    "    }\n",
    "}"
   ]
  },
  {
   "cell_type": "code",
   "execution_count": null,
   "id": "5333db1f-3f23-430e-a2a5-a4173881bf61",
   "metadata": {},
   "outputs": [],
   "source": [
    "mdrun (\"min\", input_ions_top, prop_min, destination=\"../example/1aki/\")"
   ]
  },
  {
   "cell_type": "code",
   "execution_count": null,
   "id": "81297a1a-0ebc-42c8-8301-eccae3fb4ab7",
   "metadata": {},
   "outputs": [],
   "source": [
    "input_heat_top = {\n",
    "    \"top\": \"structure.ions.parmtop\",\n",
    "    \"log\": \"pmemd.min.log\",\n",
    "    \"rst\": \"pmemd.min.rst\",\n",
    "    \"crd\": \"pmemd.min.rst\"\n",
    "}\n",
    "\n",
    "prop_heat = {\n",
    "    \"simulation_type\" : \"heat\",\n",
    "    \"binary_path\": \"/nfs_home/software/amber/22/bin/pmemd.cuda\",\n",
    "    \"mdin\" : { \n",
    "        'nstlim' : 2500, # Reducing the number of steps for the sake of time (5ps)\n",
    "        'ntr' : 1,       # Overwritting restrain parameter\n",
    "        'restraintmask' : '\\\"!:WAT,Cl-,Na+\\\"',      # Restraining solute\n",
    "        'restraint_wt' : 10.0                       # With a force constant of 10 Kcal/mol*A2\n",
    "    }\n",
    "}"
   ]
  },
  {
   "cell_type": "code",
   "execution_count": null,
   "id": "ad704d85-b90d-412c-bf7e-89ec57b5bae7",
   "metadata": {},
   "outputs": [],
   "source": [
    "mdrun (\"heat\", input_heat_top, prop_heat, destination=\"../example/1aki/\")"
   ]
  },
  {
   "cell_type": "code",
   "execution_count": null,
   "id": "67acdb29-b48d-481b-9944-1eb6a181b00f",
   "metadata": {},
   "outputs": [],
   "source": [
    "input_nvt_top = {\n",
    "    \"top\": \"structure.ions.parmtop\",\n",
    "    \"log\": \"pmemd.heat.log\",\n",
    "    \"rst\": \"pmemd.heat.rst\",\n",
    "    \"crd\": \"pmemd.heat.rst\"\n",
    "}\n",
    "\n",
    "\n",
    "prop_nvt = {\n",
    "    \"simulation_type\" : 'nvt',\n",
    "    \"remove_tmp\": False,\n",
    "    \"binary_path\": \"/nfs_home/software/amber/22/bin/pmemd.cuda\",\n",
    "    \"mdin\" : { \n",
    "        'nstlim' : 50000, # Reducing the number of steps for the sake of time (1ps)\n",
    "        'ntr' : 1,      # Overwritting restrain parameter\n",
    "        'restraintmask' : '\\\"!:WAT,Cl-,Na+ & !@H=\\\"',      # Restraining solute heavy atoms\n",
    "        'restraint_wt' : 5.0,                            # With a force constant of 5 Kcal/mol*A2\n",
    "    }\n",
    "}"
   ]
  },
  {
   "cell_type": "code",
   "execution_count": null,
   "id": "32479774-7729-4103-b873-52cbcec61014",
   "metadata": {},
   "outputs": [],
   "source": [
    "mdrun (\"nvt\", input_nvt_top, prop_nvt, destination=\"../example/1aki/\")"
   ]
  },
  {
   "cell_type": "code",
   "execution_count": null,
   "id": "6cb7cac2-69f5-4dbf-94de-eda3c55f7bdf",
   "metadata": {},
   "outputs": [],
   "source": [
    "input_npt_top = {\n",
    "    \"top\": \"structure.ions.parmtop\",\n",
    "    \"log\": \"pmemd.nvt.log\",\n",
    "    \"rst\": \"pmemd.nvt.rst\",\n",
    "    \"crd\": \"pmemd.nvt.rst\"\n",
    "}\n",
    "\n",
    "prop_npt = {\n",
    "    \"simulation_type\" : 'npt',\n",
    "    \"binary_path\": \"/nfs_home/software/amber/22/bin/pmemd.cuda\",\n",
    "    \"mdin\" : { \n",
    "        'nstlim' : 50000, # Reducing the number of steps for the sake of time (1ps)\n",
    "        'ntr' : 1,      # Overwritting restrain parameter\n",
    "        'restraintmask' : '\\\"!:WAT,Cl-,Na+ & !@H=\\\"',      # Restraining solute heavy atoms\n",
    "        'restraint_wt' : 2.5                               # With a force constant of 2.5 Kcal/mol*A2\n",
    "    }\n",
    "}"
   ]
  },
  {
   "cell_type": "code",
   "execution_count": null,
   "id": "1db1d28b-19b6-4c0e-b910-f9f277178bea",
   "metadata": {},
   "outputs": [],
   "source": [
    "mdrun (\"npt\", input_npt_top, prop_npt, destination=\"../example/1aki/\")"
   ]
  },
  {
   "cell_type": "code",
   "execution_count": null,
   "id": "534adc41-8d51-41da-88ed-2d3dd1a01f7e",
   "metadata": {},
   "outputs": [],
   "source": [
    "input_free_top = {\n",
    "    \"top\": \"structure.ions.parmtop\",\n",
    "    \"log\": \"pmemd.npt.log\",\n",
    "    \"rst\": \"pmemd.npt.rst\",\n",
    "    \"crd\": \"pmemd.npt.rst\"\n",
    "}\n",
    "\n",
    "prop_free = {\n",
    "    \"simulation_type\" : 'free',\n",
    "    \"binary_path\": \"/nfs_home/software/amber/22/bin/pmemd.cuda\",\n",
    "    \"mdin\" : { \n",
    "        'nstlim' : 250000, # Reducing the number of steps for the sake of time (5ps)\n",
    "        'ntwx' : 500  # Print coords to trajectory every 500 steps (1 ps)\n",
    "    }\n",
    "}"
   ]
  },
  {
   "cell_type": "code",
   "execution_count": null,
   "id": "317d856d-44b6-45ff-9d7b-6e5908296c96",
   "metadata": {},
   "outputs": [],
   "source": [
    "mdrun (\"free\", input_free_top, prop_free, destination=\"../example/1aki/\")"
   ]
  },
  {
   "cell_type": "code",
   "execution_count": null,
   "id": "0957056a-7a07-4251-a0a3-68ff0f799fa5",
   "metadata": {},
   "outputs": [],
   "source": []
  },
  {
   "cell_type": "code",
   "execution_count": null,
   "id": "a101c7f7-9f63-45d2-b772-0cfa6a89b650",
   "metadata": {},
   "outputs": [],
   "source": []
  }
 ],
 "metadata": {
  "kernelspec": {
   "display_name": "biobb_amber",
   "language": "python",
   "name": "biobb_amber"
  },
  "language_info": {
   "codemirror_mode": {
    "name": "ipython",
    "version": 3
   },
   "file_extension": ".py",
   "mimetype": "text/x-python",
   "name": "python",
   "nbconvert_exporter": "python",
   "pygments_lexer": "ipython3",
   "version": "3.11.6"
  },
  "toc-showmarkdowntxt": true
 },
 "nbformat": 4,
 "nbformat_minor": 5
}
