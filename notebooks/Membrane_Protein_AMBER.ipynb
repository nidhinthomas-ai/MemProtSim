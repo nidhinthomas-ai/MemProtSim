{
 "cells": [
  {
   "cell_type": "markdown",
   "id": "b599c8c5-4e0f-4289-8c44-003379175a56",
   "metadata": {},
   "source": [
    "<div style=\"font-family: 'Georgia';\">\n",
    "\n",
    "## Membrane-Protein MD simulations in AMBER\n",
    "\n",
    "This workflow is designed to perform equilibrium MD simulations of proteins embedded in lipid bilayers. User is expected to have fundamental knowledge in molecular dynamics and structural chemistry as a pre-requisite to run this workflow. The workflow is divided into five stages:\n",
    "\n",
    "1. Initial input protein preparation using PROPKA+PDB2PQR\n",
    "2. Generating the correct orientation of proteins within lipid membranes using PPM local version\n",
    "3. Insertion of proteins into lipid membranes of choice using PACKMOL-MEMGEN\n",
    "4. Build system topology using tleap\n",
    "5. Equilibrium MD simulation of complex system in AMBER PMEMD.\n",
    "6. Post-simulation analyses of the complex (cluster analysis, PCA, Free energy, Structure analysis)\n",
    "\n",
    "</div>"
   ]
  },
  {
   "cell_type": "markdown",
   "id": "1e85c377-e309-4e33-82d5-2d63583ad226",
   "metadata": {},
   "source": [
    "<div style=\"font-family: 'Georgia';\">\n",
    "\n",
    "### 1. Initial input protein preparation using PROPKA+PDB2PQR\n",
    "\n",
    "The input protein structure may have problems with the protonation state of the residues, terminis and disulfide bond definition. These problems could originate by the way these structures were generated. Therefore, the input structures need to be cleaned well prior to any modeling. I highly recommend using preliminary cleaning of the pdb file using tools such as \"pdb-tools\" or Parmed or any other simple PDB editing tools. Structures from Rosetta may have residue-level energy values written at the end of the PDB files. These lines should be deleted during this stage to obtain reasonable structures without failure. \n",
    "\n",
    "Just like GROMACS workflow, the input PDB structure should be checked for proper protonation. If the protonation states of the residues are different from the original files, user can essentially see those suggestions from PROPKA and PDB2PQR. If the protonation state, recommended is different than the original information, pdbGMXprep.py will read the output from PROPKA and modify the input PDB files to reflect the correct protonation states suggested by PROPKA.\n",
    "\n",
    "GROMACS typically determines the salt bridge states during \"pdb2gmx\". However, the disulfide bonds in the proteins or between proteins, in AMBER MD package are determined during the initial phase itself.\n",
    "\n",
    "Correct naming of the chain IDs, residues, and termini are required to successfully run these steps. \n",
    "    \n",
    "</div>"
   ]
  },
  {
   "cell_type": "code",
   "execution_count": null,
   "id": "c2735d98-389d-49c9-b818-57d50cb5e462",
   "metadata": {},
   "outputs": [],
   "source": [
    "%%bash\n",
    "function pqr2pdb () {\n",
    "inputPDB=$1\n",
    "script_dir=$2\n",
    "destination=$3\n",
    "pdbfilename=$(basename \"$inputPDB\")  \n",
    "pdbname=${pdbfilename%.*}\n",
    "pdb2pqr30 --with-ph 7.4 --ff=AMBER --titration-state-method propka --ffout=AMBER \\ \n",
    "    --pdb-output ${destination}/${pdbname}_pka7.pdb ${inputPDB} ${destination}/${pdbname}_pka7.pqr\n",
    "propka3 ${inputPDB}\n",
    "mv ${pdbname}.pka ${destination}/${pdbname}.pka\n",
    "python ${script_dir}/pdbGMXprep.py --pkafile ${destination}/${pdbname}.pka --pH 7.4 \\\n",
    "    --mutatedPDB ${destination}/${pdbname}_protonated.pdb --pdb ${destination}/${pdbname}_pka7.pdb\n",
    "}"
   ]
  },
  {
   "cell_type": "markdown",
   "id": "abc915a4-5ecb-4705-bfbd-4dc7261bc6ee",
   "metadata": {},
   "source": [
    "<div style=\"font-family: 'Georgia';\">\n",
    "\n",
    "### 2. Generating the correct orientation of proteins within lipid membranes using PPM3 local version\n",
    "\n",
    "Typically, the orientation of transmembrane proteins in lipid membranes are determined from OPM database or by running it in PPM server. Howeve, they also provide a local version of this software and that has been added to this pipeline under \"PPM\" directory. The correct orientation of the protein with respect to a planar membrane is determined by embedding the protein into a DOPC bilayer. The details of the protocol and the collection of output results are provided in the link below. You can also find a detailed instruction from the orignal authors in a word document in PPM directory under the name \"ppm3_instructions.docx\".\n",
    "\n",
    "PPM3 requires gfortran. The format of the input file (*.inp) is given in \"example\" directory. The example bash script is given below. The executable and input files are all expected to be in the same working directory.\n",
    "    \n",
    "**module load gcc**\n",
    "\n",
    "**./immers<2membrane.inp>output_file**\n",
    "    \n",
    "</div>"
   ]
  },
  {
   "cell_type": "markdown",
   "id": "31309742-3f66-4de2-b05e-bc92f220fe6f",
   "metadata": {},
   "source": [
    "<div style=\"font-family: 'Georgia';\">\n",
    "\n",
    "The output PDB file contains the re-oriented protein structure along with dummy beads to represent the membrane-water interface (typically phosphorus atoms in the DOPC or Carbonyl group at the interface). These \"HETATM\" lines need to be removed before going into the next stage where the protein is inserted into a lipid membrane with composition of our choice. These lines can be removed using the \"sed\" command.\n",
    "    \n",
    "**sed '/HETATM\\|DUM/d' input.pdb > output.pdb**\n",
    "    \n",
    "</div>"
   ]
  },
  {
   "cell_type": "markdown",
   "id": "9af5db91-87d8-4f41-801b-47250ab4fa5e",
   "metadata": {},
   "source": [
    "<div style=\"font-family: 'Georgia';\">\n",
    "\n",
    "### 3. Insertion of proteins into lipid membrane using PACKMOL-MEMGEN\n",
    "\n",
    "PACKMOL-MEMGEN is pre-installed in AMBER module. When AMBER is loaded onto the terminal, user can use PACKMOL-MEMGEN to generate either membrane-only systems or proteins embeddged into the lipid membrane. The input arguments required for this stage can be found using the commands below. The orientation the protein with respect to lipid membrane is already determined using PPM3-server local version.\n",
    "    \n",
    "The descriptions of the command line arguments are provided below:\n",
    "    \n",
    "* \"--pdb pdbname_from_ppm3.pdb\": input transmembrane protein PDB\n",
    "* \"--lipids POPC\": build POPC membrane (Composition of the lipids can be modified)\n",
    "* \"--ratio 1\": POPC ratio of 1 (Different composition can be tried here)\n",
    "* \"--preoriented\": the PPM coordinates orientated along the z-axis.\n",
    "* \"--salt --salt_c Na+ --saltcon 0.15\": Add 0.15 M of NaCl salt to the water layer\n",
    "* \"--dist 10\": minimum maxmin value for x, y, z to box boundary\n",
    "* \"--dist_wat 15\": water layer thickness of 15 Angstrom\n",
    "* \"--notprotonate --nottrim\": No need to further process input protein PDB file\n",
    "    \n",
    "</div>"
   ]
  },
  {
   "cell_type": "markdown",
   "id": "79d5b17d-2708-4906-bbc4-969d0c4728ce",
   "metadata": {},
   "source": [
    "<div style=\"font-family: 'Georgia';\">\n",
    "\n",
    "**packmol-memgen --help**\n",
    "\n",
    "**packmol-memgen --pdb destination/pdbname_from_ppm3.pdb --lipids \n",
    "POPC --ratio 1 --preoriented --salt --salt_c Na+ --saltcon 0.15\n",
    "--dist 10 --dist_wat 15 --notprotonate --nottrim**\n",
    "    \n",
    "</div>"
   ]
  },
  {
   "cell_type": "markdown",
   "id": "deeef535-a19c-40aa-9c91-e10dc6668196",
   "metadata": {},
   "source": [
    "<div style=\"font-family: 'Georgia';\">\n",
    "    \n",
    "### 4. Build system topology using tleap\n",
    "\n",
    "The system topology files contain the force field parameters required to perform the MD runs. In AMBER, there are multiple ways to build the topology. Here, we use tleap to build the topology. The system topology can be built either interactively or in single step. Users are encouraged to use the interactive version of tleap from command line for new systems. However, if the runs need to be parallelized, topology building in single step is preferred. \n",
    "    \n",
    "In order to run tleap, In Lovelace and Marjorie, users need to load AMBER package.\n",
    "\n",
    "For interactive session:\n",
    "\n",
    "**module load amber/22**  \n",
    "**tleap**\n",
    "\n",
    "Enter each line in topol_build.leap one by one. Modify the lines if user has additional molecules in the system or  user wants to change the system force field parameters. \n",
    "    \n",
    "For execution of topology building in single step:\n",
    "    \n",
    "**tleap -f system_build.leap**\n",
    "\n",
    "</div>"
   ]
  },
  {
   "cell_type": "markdown",
   "id": "058dff00-1480-4a98-aaf8-c56d5910dc15",
   "metadata": {
    "tags": []
   },
   "source": [
    "<div style=\"font-family: 'Georgia';\">\n",
    "\n",
    "Each line in the topol_build.leap is explained below. \n",
    "\n",
    "* **source leaprc.protein.ff19SB**: AMBERFF19SB force field is used for proteins\n",
    "* **source leaprc.water.tip3p**: TIP3P water molecules are added to solvate the system\n",
    "* **source leaprc.gaff2**: If small molecules or ligands are added to the system, they need be to parametrized. In AMBER, we can use GAFF2 to parametrize these molecules using AM1-BCC theory.\n",
    "* **source leaprc.lipid21**: Latest lipid force field parametes used by AMBER. The choice of the lipid force field is dependent on the combination of FF being used in the system. \n",
    "* **loadamberparams frcmod.ionsjc_tip3p**: Monovalent ion parameters for Ewald and TIP3P water.\n",
    "* **receptor = loadpdb protein.pdb**: Adding the transmembrane protein to the FF\n",
    "* **membrane = loadpdb POPC_amber.pdb**: Adding the membrane lipid to the FF\n",
    "* **rism_wat = loadpdb rism_sele.pdb**: Adding the initial water molecules to the FF\n",
    "* **system=combine{ receptor membrane rism_wat }**:Combining these FF parametes together\n",
    "* **set system box {XX.XXX XX.XXX XX.XXX }**: System box size is added\n",
    "* **saveamberparm system protein_membrane.prmtop protein_membrane.inpcrd**: Saving the parameres\n",
    "* **savepdb system protein_membrane.pdb**: Save the PDB files after building the topology\n",
    "* **quit**: Quit tleap after saving the files\n",
    "\n",
    "</div>"
   ]
  },
  {
   "cell_type": "markdown",
   "id": "30b201aa-9dde-4cac-a2cb-0336792763df",
   "metadata": {},
   "source": [
    "**Hydrogen Mass Repartitioning**: Optionally user can also increase the simulation timestep to 4fs from 2fs with the help of hydrogen mass repartitioning. This can be done with the help of the **Parmed** package.\n",
    "\n",
    "**parmed -i hmass_parmed.in**"
   ]
  },
  {
   "cell_type": "markdown",
   "id": "dcb5bd0f-68aa-4485-accf-0aebf903d16b",
   "metadata": {},
   "source": [
    "<div style=\"font-family: 'Georgia';\">\n",
    "\n",
    "### 5. Equilibrium MD simulation of complex system in AMBER PMEMD\n",
    "    \n",
    "Equilibrium MD simulation can be performed as a single package. It includes initial energy minimization, NVT equilibration, NPT equilibration and production run. We perform these steps in GPU (minimization can be done in CPU). This step can either be a part of the entire workflow or separate. If user is exploring the structure and setting up the system for the first time, we recommend using the stand alone bash script \"run_MD.sh\" to perform the simulation. This step gives control over the type of input files and the simulation parameters such as timestep, thermostat and barostat variables. The simulation steps and associated input files are discussed below. \n",
    "    \n",
    "* **01_Min.in**: very short minimization on CPU with pmemd. This is advised for membrane systems, which often have bad clashes of lipid chains to resolve. The CPU code is more robust in dealing with these than the GPU\n",
    "* **02_Min2.in**: longer minimization on GPU\n",
    "* **03_Heat.in, 04_Heat2.in**: heating to 303 K, with restraints on protein and membrane lipids\n",
    "* **05_Back.in**: run 1 ns NPT with restraints on receptor backbone atoms\n",
    "* **06_Calpha.in**: run 1 ns NPT with restraints on receptor carbon-alpha atoms, iperoxo\n",
    "* **07_Prod.in**: run 100 ns NPT equilibration, all restraints removed\n",
    "* **08_Long.in**: run 500 ns NPT production, with Monte Carlo barostat and hydrogen mass repartitioning\n",
    "    \n",
    "The script can be run from command line:\n",
    "    \n",
    "**sbatch run_MD.sh**\n",
    "   \n",
    "</div>"
   ]
  },
  {
   "cell_type": "markdown",
   "id": "642f1874-65e4-4ae4-8520-0a4c81b03e3a",
   "metadata": {},
   "source": [
    "<div style=\"font-family: 'Georgia';\">\n",
    "\n",
    "### 6. Post-simulation analyses of the complex\n",
    "    \n",
    "\n",
    "    \n",
    "</div>"
   ]
  },
  {
   "cell_type": "code",
   "execution_count": 1,
   "id": "97f5cd36-c69e-470f-86cb-dd7bb383859d",
   "metadata": {},
   "outputs": [
    {
     "data": {
      "application/vnd.jupyter.widget-view+json": {
       "model_id": "a548b4eaa14d468bba14753dbb48efd8",
       "version_major": 2,
       "version_minor": 0
      },
      "text/plain": []
     },
     "metadata": {},
     "output_type": "display_data"
    }
   ],
   "source": [
    "import nglview as ngl"
   ]
  },
  {
   "cell_type": "code",
   "execution_count": 11,
   "id": "e49b00f9",
   "metadata": {},
   "outputs": [
    {
     "data": {
      "application/vnd.jupyter.widget-view+json": {
       "model_id": "500c120523b04da8a145cb5b07a1bd51",
       "version_major": 2,
       "version_minor": 0
      },
      "text/plain": [
       "NGLWidget(layout=Layout(height='800px'))"
      ]
     },
     "metadata": {},
     "output_type": "display_data"
    }
   ],
   "source": [
    "import nglview as nv\n",
    "from nglview import show_structure_file\n",
    "\n",
    "# Path to your PDB file\n",
    "pdb_file_path = '../examples/6vn7/bilayer_6vn7_chAB_protonated_ppm3.pdb'\n",
    "\n",
    "# Load the PDB file\n",
    "view = show_structure_file(pdb_file_path)\n",
    "\n",
    "# Clear default representations\n",
    "view.clear_representations()\n",
    "\n",
    "# Show lipid molecules as sticks\n",
    "view.add_representation(repr_type='line', selection='PA or PC or OL')\n",
    "\n",
    "# Show protein as cartoon\n",
    "view.add_representation(repr_type='cartoon', selection='protein')\n",
    "\n",
    "# Show water molecules as transparent surface with 0.75 transparency\n",
    "view.add_representation(repr_type='surface', selection='water', opacity=0.25)\n",
    "\n",
    "# Show Sodium ions as small spheres with a different color\n",
    "view.add_representation(repr_type='sphere', selection='NA', color='blue', radius=0.5)\n",
    "\n",
    "# Show Chlorine ions as small spheres with a different color\n",
    "view.add_representation(repr_type='sphere', selection='CL', color='green', radius=0.5)\n",
    "\n",
    "# Set the size of the NGLWidget output\n",
    "view.layout.height = '800px'  # Adjust the height as needed\n",
    "# view.layout.width = '80%'   # Optionally, adjust the width as needed\n",
    "\n",
    "# Display the viewer\n",
    "view"
   ]
  },
  {
   "cell_type": "code",
   "execution_count": null,
   "id": "0de1050e",
   "metadata": {},
   "outputs": [],
   "source": []
  }
 ],
 "metadata": {
  "kernelspec": {
   "display_name": "Python 3 (ipykernel)",
   "language": "python",
   "name": "python3"
  },
  "language_info": {
   "codemirror_mode": {
    "name": "ipython",
    "version": 3
   },
   "file_extension": ".py",
   "mimetype": "text/x-python",
   "name": "python",
   "nbconvert_exporter": "python",
   "pygments_lexer": "ipython3",
   "version": "3.11.3"
  }
 },
 "nbformat": 4,
 "nbformat_minor": 5
}
