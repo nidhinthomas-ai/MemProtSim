{
 "cells": [
  {
   "cell_type": "markdown",
   "id": "dd5d5140-bc6c-485d-8036-ec3a86844be4",
   "metadata": {},
   "source": [
    "# Small Molecule Parametrization\n",
    "\n",
    "This script shows how one can generate the force field parameters of small molecules using Generalized Amber Force Field (GAFF). The partial charges of the molecules is obtained using AM1-BCC method. OpenBabel and ACPype packages are used to add hydrogens, energetically minimize the structure, and generate the FF parameters. "
   ]
  },
  {
   "cell_type": "code",
   "execution_count": 1,
   "id": "cb38be82-fb6d-4a4b-8f0e-848d2b307be4",
   "metadata": {
    "tags": []
   },
   "outputs": [
    {
     "data": {
      "application/vnd.jupyter.widget-view+json": {
       "model_id": "2b87272f4ab34bf3b70a14f8aa09d841",
       "version_major": 2,
       "version_minor": 0
      },
      "text/plain": []
     },
     "metadata": {},
     "output_type": "display_data"
    }
   ],
   "source": [
    "import nglview\n",
    "import ipywidgets\n",
    "import os\n",
    "\n",
    "ligand = \"ixo_ligand.mol2\"\n",
    "mol_charge = 0\n",
    "pH = 7.4"
   ]
  },
  {
   "cell_type": "code",
   "execution_count": null,
   "id": "00ad971c-9c3e-4023-840d-ffc44778739f",
   "metadata": {},
   "outputs": [],
   "source": []
  }
 ],
 "metadata": {
  "kernelspec": {
   "display_name": "biobb_amber",
   "language": "python",
   "name": "biobb_amber"
  },
  "language_info": {
   "codemirror_mode": {
    "name": "ipython",
    "version": 3
   },
   "file_extension": ".py",
   "mimetype": "text/x-python",
   "name": "python",
   "nbconvert_exporter": "python",
   "pygments_lexer": "ipython3",
   "version": "3.11.6"
  }
 },
 "nbformat": 4,
 "nbformat_minor": 5
}
